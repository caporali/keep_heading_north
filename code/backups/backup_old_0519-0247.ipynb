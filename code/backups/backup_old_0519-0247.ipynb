{
 "cells": [
  {
   "attachments": {},
   "cell_type": "markdown",
   "metadata": {},
   "source": [
    "## Data exportation"
   ]
  },
  {
   "cell_type": "code",
   "execution_count": 964,
   "metadata": {},
   "outputs": [],
   "source": [
    "import shutil\n",
    "\n",
    "for i in range(1, 19):\n",
    "\tshutil.copy2(\"original_data/PlanetLab/PlanetLabData_\" +\n",
    "\t\tstr(i), \"data/planetlab/planetlab_data_\" + str(i) + \".adj\")\n",
    "for i in range(1, 689):\n",
    "\tshutil.copy2(\"original_data/Seattle/SeattleData_\" +\n",
    "\t\tstr(i), \"data/seattle/seattle_data_\" + str(i) + \".adj\")"
   ]
  },
  {
   "attachments": {},
   "cell_type": "markdown",
   "metadata": {},
   "source": [
    "## Data transformation: RTT (Round Trip Time)\n",
    "\n",
    "Measured in seconds $s$."
   ]
  },
  {
   "cell_type": "code",
   "execution_count": 965,
   "metadata": {},
   "outputs": [],
   "source": [
    "import pandas as pd\n",
    "import numpy as np\n",
    "\n",
    "group = \"seattle\"\n",
    "time = 1"
   ]
  },
  {
   "cell_type": "code",
   "execution_count": 966,
   "metadata": {},
   "outputs": [],
   "source": [
    "source_file = group + \"/\" + group + \"_data_\" + str(time)\n",
    "rtt = pd.read_csv(\"data/\" + source_file + \".adj\", sep = \"\\t\", lineterminator = \"\\n\", header = None)\n",
    "rtt = rtt.to_numpy()"
   ]
  },
  {
   "attachments": {},
   "cell_type": "markdown",
   "metadata": {},
   "source": [
    "## Network throughput\n",
    "\n",
    "Measured in megabit per second $Mbit/s$. Extracted randomly from a $\\mathcal{N}\\left(\\mu, \\sigma^2\\right)$, with $\\mu = 70$ and $\\sigma = 10$."
   ]
  },
  {
   "cell_type": "code",
   "execution_count": 967,
   "metadata": {},
   "outputs": [],
   "source": [
    "np.random.seed(2023)\n",
    "\n",
    "mean = 70\n",
    "sd = 10\n",
    "nt = np.random.normal(mean, sd, size = (rtt.shape[0], rtt.shape[0])).astype(int)"
   ]
  },
  {
   "attachments": {},
   "cell_type": "markdown",
   "metadata": {},
   "source": [
    "## Availability (1)\n",
    "\n",
    "Extract randomly from a $\\rm{Uniform}\\left(0, 1\\right)$ and set to \n",
    "\\begin{equation*}\n",
    "\t\\begin{cases}\n",
    "\t\t1 \\text{ (available)} & \\text{ if} \\geq 0.2 \\\\\n",
    "\t\t0 \\text{ (unavailable)} & \\text{ otherwise}\n",
    "\t\\end{cases}.\n",
    "\\end{equation*}"
   ]
  },
  {
   "cell_type": "code",
   "execution_count": 968,
   "metadata": {},
   "outputs": [],
   "source": [
    "av1 = (np.random.uniform(size = (rtt.shape[0])) >= 0.2) ** 2"
   ]
  },
  {
   "attachments": {},
   "cell_type": "markdown",
   "metadata": {},
   "source": [
    "## Availability (2)\n",
    "\n",
    "A router reject the connection from another router (temporary banned).  \n",
    "Extract randomly from a $\\rm{Uniform}\\left(0, 1\\right)$ and set to \n",
    "\\begin{equation*}\n",
    "\t\\begin{cases}\n",
    "\t\t1 \\text{ (not banned)} & \\text{ if} \\geq 0.2 \\\\\n",
    "\t\t0 \\text{ (banned)} & \\text{ otherwise}\n",
    "\t\\end{cases}.\n",
    "\\end{equation*}"
   ]
  },
  {
   "cell_type": "code",
   "execution_count": 969,
   "metadata": {},
   "outputs": [],
   "source": [
    "av2 = (np.random.uniform(size = (rtt.shape[0], rtt.shape[0])) >= 0.2) ** 2"
   ]
  },
  {
   "attachments": {},
   "cell_type": "markdown",
   "metadata": {},
   "source": [
    "## Reliability\n",
    "\n",
    "Add reliability between the different nodes.  \n",
    "Set all the relationships as fair: $\\frac{1}{2}$.  \n",
    "Extract randomly from a $\\rm{Uniform}\\left(-1, 1\\right)$ and set to \n",
    "\\begin{equation*}\n",
    "\t\\begin{cases}\n",
    "\t\t-\\frac{3}{4} \\text{ (unreliable)} & \\text{ if} \\geq 0.66 \\\\\n",
    "\t\t-\\frac{1}{4} \\text{ (reliable)} & \\text{ if} \\leq -0.94\n",
    "\t\\end{cases},\n",
    "\\end{equation*}\n",
    "i.e. the $17\\%$ of all the relationships can be considered unreliable and the $3\\%$ of them can be considered reliable."
   ]
  },
  {
   "cell_type": "code",
   "execution_count": 970,
   "metadata": {},
   "outputs": [
    {
     "data": {
      "text/plain": [
       "181"
      ]
     },
     "execution_count": 970,
     "metadata": {},
     "output_type": "execute_result"
    }
   ],
   "source": [
    "rel = np.ones((rtt.shape[0], rtt.shape[0])) / 2\n",
    "\n",
    "rand = np.random.uniform(-1, 1, size = (rtt.shape[0], rtt.shape[0]))\n",
    "for index in range(np.where(rand >= 0.66)[0].shape[0]):\n",
    "\ti = np.where(rand >= 0.66)[0][index]\n",
    "\tj = np.where(rand >= 0.66)[1][index]\n",
    "\trel[i, j] = 3 / 4\n",
    "for index in range(np.where(rand <= -0.94)[0].shape[0]):\n",
    "\ti = np.where(rand <= -0.94)[0][index]\n",
    "\tj = np.where(rand <= -0.94)[1][index]\n",
    "\trel[i, j] = - 1 / 4\n",
    "for i in range(rtt.shape[0]):\n",
    "\trel[i, i] = 0\n",
    "np.where(rand <= -0.96)[0].shape[0]"
   ]
  },
  {
   "cell_type": "code",
   "execution_count": 971,
   "metadata": {},
   "outputs": [],
   "source": [
    "f = open(\"graphs/rel.g\", \"w\")\n",
    "f.write(str(rel.shape[0]) + \"\\n\")\n",
    "for i in range(rel.shape[0]):\n",
    "\tfor j in range(rel.shape[0]):\n",
    "\t\tif i != j:\n",
    "\t\t\tf.write(str(i) + \" \" + str(j) + \" \" + str(rel[i, j]) + \"\\n\")\n",
    "f.close()"
   ]
  },
  {
   "attachments": {},
   "cell_type": "markdown",
   "metadata": {},
   "source": [
    "## Complete adjacency matrix"
   ]
  },
  {
   "cell_type": "code",
   "execution_count": 972,
   "metadata": {},
   "outputs": [],
   "source": [
    "adj_mat = rtt + 1 / 500 * nt + rel"
   ]
  },
  {
   "cell_type": "code",
   "execution_count": 973,
   "metadata": {},
   "outputs": [
    {
     "name": "stdout",
     "output_type": "stream",
     "text": [
      "10.032 -0.132 0.9331102948678707\n"
     ]
    }
   ],
   "source": [
    "graph_file = group + \"/\" + group + \"_\" + str(time)\n",
    "f = open(\"graphs/\" + graph_file + \".g\", \"w\")\n",
    "f.write(str(adj_mat.shape[0]) + \"\\n\")\n",
    "for i in range(adj_mat.shape[0]):\n",
    "\tfor j in range(adj_mat.shape[0]):\n",
    "\t\tif i != j:\n",
    "\t\t\tif (av1[i] != 0 and av1[j] != 0 and av2[i, j] != 0):\n",
    "\t\t\t\tf.write(str(i) + \" \" + str(j) + \" \" + str(round(adj_mat[i, j], 4)) + \"\\n\")\n",
    "f.close()\n",
    "\n",
    "print(np.max(adj_mat), np.min(adj_mat), np.mean(adj_mat))"
   ]
  },
  {
   "attachments": {},
   "cell_type": "markdown",
   "metadata": {},
   "source": [
    "## Graph class"
   ]
  },
  {
   "cell_type": "code",
   "execution_count": 974,
   "metadata": {},
   "outputs": [],
   "source": [
    "class graph:\n",
    "\tdef __init__(self):\n",
    "\t\tself.graph = []\n",
    "\t\tself.n = 0\n",
    "\tdef __add_edge(self, u, v, weight):\n",
    "\t\tself.graph[u].append((v, weight))\n",
    "\tdef print(self):\n",
    "\t\tfor u in range(self.n):\n",
    "\t\t\tprint(str(u) + \" →\", end = \"\")\n",
    "\t\t\tfor v, weight in self.graph[u]:\n",
    "\t\t\t\tprint(\" \" + str(v) + \" (\" + str(weight) + \") |\", end = \"\")\n",
    "\t\t\tprint()\n",
    "\tdef load_graph(self, filename):\n",
    "\t\twith open(filename) as file:\n",
    "\t\t\tlines = file.readlines()\n",
    "\t\tself.n = int(lines[0])\n",
    "\t\tself.graph = [[] for _ in range(self.n)]\n",
    "\t\tfor i in range(1, len(lines)):\n",
    "\t\t\tu, v, weight = lines[i].split()\n",
    "\t\t\tself.__add_edge(int(u), int(v), float(weight))"
   ]
  },
  {
   "cell_type": "code",
   "execution_count": 975,
   "metadata": {},
   "outputs": [],
   "source": [
    "g = graph()\n",
    "# g.load_graph(\"graphs/graph_neg.g\")\n",
    "g.load_graph(\"graphs/\" + graph_file + \".g\")\n",
    "# g.load_graph(\"graphs/rel.g\")"
   ]
  },
  {
   "attachments": {},
   "cell_type": "markdown",
   "metadata": {},
   "source": [
    "## Floyd-Warshall"
   ]
  },
  {
   "cell_type": "code",
   "execution_count": 976,
   "metadata": {},
   "outputs": [],
   "source": [
    "dist = []\n",
    "prev = []\n",
    "path = []"
   ]
  },
  {
   "cell_type": "code",
   "execution_count": 977,
   "metadata": {},
   "outputs": [],
   "source": [
    "def init_fw():\n",
    "\tdist.clear()\n",
    "\tprev.clear()\n",
    "\tdist.extend([[float(\"inf\")] * g.n for _ in range(g.n)])\n",
    "\tprev.extend([[None] * g.n for _ in range(g.n)])\n",
    "\n",
    "def floyd_warshall(g):\n",
    "\tinit_fw()\n",
    "\tfor u in range(g.n):\n",
    "\t\tfor v, weight in g.graph[u]:\n",
    "\t\t\tdist[u][v] = weight\n",
    "\t\t\tprev[u][v] = u\n",
    "\tfor u in range(g.n):\n",
    "\t\tdist[u][u] = 0\n",
    "\t\tprev[u][u] = u\n",
    "\tfor k in range(g.n):\n",
    "\t\tfor i in range(g.n):\n",
    "\t\t\tfor j in range(g.n):\n",
    "\t\t\t\tif dist[i][j] > dist[i][k] + dist[k][j]:\n",
    "\t\t\t\t\tdist[i][j] = dist[i][k] + dist[k][j]\n",
    "\t\t\t\t\tprev[i][j] = prev[k][j]\n",
    "\n",
    "def find_path_fw(u, v):\n",
    "\tpath.clear()\n",
    "\tif prev[u][v] != None:\n",
    "\t\tpath.insert(0, v)\n",
    "\t\twhile u != v:\n",
    "\t\t\tv = prev[u][v]\n",
    "\t\t\tpath.insert(0, v)"
   ]
  },
  {
   "attachments": {},
   "cell_type": "markdown",
   "metadata": {},
   "source": [
    "## Bellman-Ford (negative cycle detection)"
   ]
  },
  {
   "cell_type": "code",
   "execution_count": 978,
   "metadata": {},
   "outputs": [],
   "source": [
    "def init_bf():\n",
    "\tdist.clear()\n",
    "\tprev.clear()\n",
    "\tdist.extend([float(\"inf\")] * g.n)\n",
    "\tprev.extend([None] * g.n)\n",
    "\n",
    "def bellman_ford(g, source):\n",
    "\tinit_bf()\n",
    "\tdist[source] = 0\n",
    "\tflag = False\n",
    "\tfor i in range(g.n - 1):\n",
    "\t\tflag = False\n",
    "\t\tfor u in range(g.n):\n",
    "\t\t\tfor v, weight in g.graph[u]:\n",
    "\t\t\t\tif dist[u] + weight < dist[v]:\n",
    "\t\t\t\t\tdist[v] = dist[u] + weight\n",
    "\t\t\t\t\tprev[v] = u\n",
    "\t\t\t\t\tflag = True\n",
    "\t\tif flag == False:\n",
    "\t\t\tbreak\n",
    "\tfor u in range(g.n):\n",
    "\t\tfor v, weight in g.graph[u]:\n",
    "\t\t\tif dist[u] + weight < dist[v]:\n",
    "\t\t\t\tprint(\"error: negative cycle\")\n",
    "\t\t\t\n",
    "def find_path_bf(source, v):\n",
    "\tpath.clear()\n",
    "\tif prev[v] != None:\n",
    "\t\tpath.insert(0, v)\n",
    "\t\twhile source != v:\n",
    "\t\t\tv = prev[v]\n",
    "\t\t\tpath.insert(0, v)"
   ]
  },
  {
   "attachments": {},
   "cell_type": "markdown",
   "metadata": {},
   "source": [
    "## Solution"
   ]
  },
  {
   "cell_type": "code",
   "execution_count": 979,
   "metadata": {},
   "outputs": [],
   "source": [
    "def path_cost(g, path):\n",
    "\tcost = []\n",
    "\tfor i in range(len(path) - 1):\n",
    "\t\tfor j, weight in g.graph[path[i]]:\n",
    "\t\t\tif j == (path[i + 1]):\n",
    "\t\t\t\tcost.append(weight)\n",
    "\treturn cost"
   ]
  },
  {
   "cell_type": "code",
   "execution_count": 980,
   "metadata": {},
   "outputs": [
    {
     "name": "stdout",
     "output_type": "stream",
     "text": [
      "path:  [15, 7, 67, 91, 52, 4, 81, 13, 16, 87, 56, 71, 53, 20, 98]\n",
      "cost:  [0.116, -0.016, 0.048, 0.196, 0.054, -0.02, 0.016, -0.054, 0.094, 0.152, 0.036, -0.056, 0.082, 0.234] → 0.882\n"
     ]
    }
   ],
   "source": [
    "max = -1\n",
    "max_index = -1\n",
    "max_source = -1\n",
    "\n",
    "for source in range(99):\n",
    "\tbellman_ford(g, source)\n",
    "\tfor i in range(99):\n",
    "\t\tfind_path_bf(source, i)\n",
    "\t\tif len(path) > max:\n",
    "\t\t\tmax = len(path)\n",
    "\t\t\tmax_index = i\n",
    "\t\t\tmax_source = source\n",
    "\n",
    "bellman_ford(g, max_source)\n",
    "find_path_bf(max_source, max_index)\n",
    "cost = path_cost(g, path)\n",
    "\n",
    "print(\"path: \", path)\n",
    "print(\"cost: \", cost, \"→\", sum(cost))"
   ]
  },
  {
   "cell_type": "code",
   "execution_count": 981,
   "metadata": {},
   "outputs": [
    {
     "name": "stdout",
     "output_type": "stream",
     "text": [
      "path:  [15, 7, 67, 91, 52, 4, 81, 13, 16, 87, 56, 71, 53, 20, 98]\n",
      "cost:  [0.116, -0.016, 0.048, 0.196, 0.054, -0.02, 0.016, -0.054, 0.094, 0.152, 0.036, -0.056, 0.082, 0.234] → 0.882\n"
     ]
    }
   ],
   "source": [
    "floyd_warshall(g)\n",
    "find_path_fw(max_source, max_index)\n",
    "cost = path_cost(g, path)\n",
    "\n",
    "print(\"path: \", path)\n",
    "print(\"cost: \", cost, \"→\", sum(cost))"
   ]
  }
 ],
 "metadata": {
  "kernelspec": {
   "display_name": ".venv",
   "language": "python",
   "name": "python3"
  },
  "language_info": {
   "codemirror_mode": {
    "name": "ipython",
    "version": 3
   },
   "file_extension": ".py",
   "mimetype": "text/x-python",
   "name": "python",
   "nbconvert_exporter": "python",
   "pygments_lexer": "ipython3",
   "version": "3.9.13"
  },
  "orig_nbformat": 4
 },
 "nbformat": 4,
 "nbformat_minor": 2
}
