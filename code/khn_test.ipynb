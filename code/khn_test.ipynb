{
 "cells": [
  {
   "cell_type": "markdown",
   "metadata": {},
   "source": [
    "## Import"
   ]
  },
  {
   "cell_type": "code",
   "execution_count": null,
   "metadata": {},
   "outputs": [],
   "source": [
    "import sys\n",
    "sys.dont_write_bytecode = True\n",
    "from source.functions.map import *\n",
    "from source.functions.tk_extension import *"
   ]
  },
  {
   "attachments": {},
   "cell_type": "markdown",
   "metadata": {},
   "source": [
    "## Test"
   ]
  },
  {
   "cell_type": "code",
   "execution_count": null,
   "metadata": {},
   "outputs": [],
   "source": [
    "m = map()\n",
    "map_filename = \"map_0\"\n",
    "m.load(\"maps/\" + map_filename + \".map\")\n",
    "m.draw(filename = \"maps/\" + map_filename + \".png\",\n",
    "\tseed = 0, caption = [0, 0, 0],\n",
    "\tfigure_size = 15)"
   ]
  },
  {
   "cell_type": "code",
   "execution_count": null,
   "metadata": {},
   "outputs": [],
   "source": [
    "m = map()\n",
    "map_filename = \"map_1\"\n",
    "m.load(\"maps/\" + map_filename + \".map\")\n",
    "m.draw(filename = \"maps/\" + map_filename + \".png\",\n",
    "\tseed = 0, caption = [0, 0, 0],\n",
    "\tfigure_size = 15)"
   ]
  },
  {
   "cell_type": "code",
   "execution_count": null,
   "metadata": {},
   "outputs": [],
   "source": [
    "seed = random.randint(0, 1000)\n",
    "random.seed(seed)\n",
    "k = 3\n",
    "m = map(generate = k)\n",
    "map_filename = \"map_gen_0\"\n",
    "m.draw(filename = \"maps/\" + map_filename + \".png\",\n",
    "\tseed = seed, caption = [0, 0, 0],\n",
    "\tfigure_size = 15)\n",
    "m.save(\"maps/\" + map_filename + \".map\")\n",
    "\n",
    "# load from last save\n",
    "m = map()\n",
    "m.load(\"maps/\" + map_filename + \".map\")\n",
    "# fig = m.draw(seed = 0, caption = [0, 0, 0],\n",
    "# \tfigure_size = 15)"
   ]
  },
  {
   "cell_type": "markdown",
   "metadata": {},
   "source": [
    "## To do\n",
    "- reinforcement"
   ]
  }
 ],
 "metadata": {
  "kernelspec": {
   "display_name": ".venv",
   "language": "python",
   "name": "python3"
  },
  "language_info": {
   "codemirror_mode": {
    "name": "ipython",
    "version": 3
   },
   "file_extension": ".py",
   "mimetype": "text/x-python",
   "name": "python",
   "nbconvert_exporter": "python",
   "pygments_lexer": "ipython3",
   "version": "3.11.4"
  },
  "orig_nbformat": 4
 },
 "nbformat": 4,
 "nbformat_minor": 2
}
