{
 "cells": [
  {
   "cell_type": "markdown",
   "metadata": {},
   "source": [
    "## Import"
   ]
  },
  {
   "cell_type": "code",
   "execution_count": null,
   "metadata": {},
   "outputs": [],
   "source": [
    "import sys\n",
    "sys.dont_write_bytecode = True\n",
    "\n",
    "from functions.map import *\n",
    "from functions.rl import *"
   ]
  },
  {
   "attachments": {},
   "cell_type": "markdown",
   "metadata": {},
   "source": [
    "## Map tests"
   ]
  },
  {
   "cell_type": "code",
   "execution_count": null,
   "metadata": {},
   "outputs": [],
   "source": [
    "m = map()\n",
    "map_filename = \"0\"\n",
    "m.load(\"../maps/\" + map_filename + \".map\")\n",
    "# m.draw(filename = \"../maps/\" + map_filename + \".png\",\n",
    "# \tfigure_size = 15)"
   ]
  },
  {
   "cell_type": "code",
   "execution_count": null,
   "metadata": {},
   "outputs": [],
   "source": [
    "m = map()\n",
    "map_filename = \"1\"\n",
    "m.load(\"../maps/\" + map_filename + \".map\")\n",
    "# m.draw(filename = \"../maps/\" + map_filename + \".png\",\n",
    "# \tfigure_size = 15)"
   ]
  },
  {
   "cell_type": "code",
   "execution_count": null,
   "metadata": {},
   "outputs": [],
   "source": [
    "seed = random.randint(0, 1000)\n",
    "random.seed(seed)\n",
    "k = 3\n",
    "m = map(generate = k)\n",
    "map_filename = \"gen_0\"\n",
    "# m.draw(filename = \"../maps/\" + map_filename + \".png\",\n",
    "# \tseed = seed,\n",
    "# \tfigure_size = 15)\n",
    "\n",
    "# save\n",
    "# m.save(\"../maps/\" + map_filename + \".map\")\n",
    "# load from last save\n",
    "# m = map()\n",
    "# m.load(\"../maps/\" + map_filename + \".map\")\n",
    "# fig = m.draw(figure_size = 15)"
   ]
  },
  {
   "cell_type": "markdown",
   "metadata": {},
   "source": [
    "## Reinforcement tests"
   ]
  },
  {
   "cell_type": "markdown",
   "metadata": {},
   "source": [
    "Proposed action for the state $s$ at step $k$, with $\\mathcal{A}(s)$ set of available actions from the state $s$:\n",
    "$$ a^*_{k}\\left(s\\right) = \\argmax\\limits_{a \\, \\in \\, \\mathcal{A}(s)} \\texttt{action\\_value}(s, a) $$\n",
    "\n",
    "$\\varepsilon$-greedy policy at step $k$:\n",
    "$$ \\pi_{k}\\left(a \\,|\\, s\\right) =\n",
    "\\begin{cases}\n",
    "\t1 - \\varepsilon + \\frac{\\varepsilon}{\\mathcal{A}(s)} & \\text{if } a = a^*_{k}\\left(s\\right)  \\\\\n",
    "\t\\frac{\\varepsilon}{\\mathcal{A}(s)} & \\text{if } a \\in \\mathcal{A}(s) \\setminus \\{a^*_{k}\\left(s\\right)\\}\n",
    "\\end{cases}\n",
    "$$"
   ]
  },
  {
   "cell_type": "code",
   "execution_count": null,
   "metadata": {},
   "outputs": [],
   "source": [
    "seed = random.randint(0, 1000)\n",
    "# seed = 949 # good example k = 4\n",
    "# seed = 801 # good example k = 4\n",
    "# seed = 59 # good example k = 4\n",
    "# seed = 921 # good example k = 5\n",
    "# seed = 230 # fantastic k = 5\n",
    "# seed = \n",
    "random.seed(seed)\n",
    "k = 5\n",
    "m = map(generate = k)\n",
    "m.draw(filename = \"../maps/\" + map_filename + \".png\",\n",
    "    seed = seed,\n",
    "\tfigure_size = 10)\n",
    "\n",
    "for gamemode in [\"shortest_path\", \"survivor\", \"explorer\"]:\n",
    "\tout = False\n",
    "\tn_iteration = 0\n",
    "\twhile not(out) and n_iteration < 100:\n",
    "\t\tout = on_policy_first_visit_mc_control(m, gamemode)\n",
    "\t\tn_iteration += 1\n",
    "\t\t# DEBUG\n",
    "\t\tprint(str(n_iteration) + \" \", end = \"\")\n",
    "\tif n_iteration < 100:\n",
    "\t\tstamina, life, path = out\n",
    "\t\tprint(gamemode + \" -> \" + str(life) + \": (\" + str(stamina) + \", \" + str(path) + \")\")\t\n",
    "\telse:\n",
    "\t\tprint(gamemode + \" -> path not found\")\n",
    "\n",
    "# m._stamina_life"
   ]
  },
  {
   "cell_type": "markdown",
   "metadata": {},
   "source": [
    "### TODO\n",
    "- book: https://www.andrew.cmu.edu/course/10-703/textbook/BartoSutton.pdf chapter 5\n",
    "- link reinforcement shortest path: https://medium.com/betacom/how-to-find-the-shortest-path-using-reinforcement-learning-4a1bb21c2fb5"
   ]
  }
 ],
 "metadata": {
  "kernelspec": {
   "display_name": ".venv",
   "language": "python",
   "name": "python3"
  },
  "language_info": {
   "codemirror_mode": {
    "name": "ipython",
    "version": 3
   },
   "file_extension": ".py",
   "mimetype": "text/x-python",
   "name": "python",
   "nbconvert_exporter": "python",
   "pygments_lexer": "ipython3",
   "version": "3.11.4"
  },
  "orig_nbformat": 4
 },
 "nbformat": 4,
 "nbformat_minor": 2
}
